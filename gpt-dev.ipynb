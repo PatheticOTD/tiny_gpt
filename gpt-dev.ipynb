{
 "cells": [
  {
   "cell_type": "code",
   "execution_count": 1,
   "metadata": {},
   "outputs": [],
   "source": [
    "# !wget https://raw.githubusercontent.com/karpathy/char-rnn/master/data/tinyshakespeare/input.txt"
   ]
  },
  {
   "cell_type": "code",
   "execution_count": 2,
   "metadata": {},
   "outputs": [],
   "source": [
    "import torch\n",
    "import numpy as np\n",
    "import torch.nn as nn\n",
    "from torch import optim\n",
    "from torch.utils.data import Dataset, DataLoader\n",
    "from torch.nn import functional as F\n",
    "from torchtune.modules import RotaryPositionalEmbeddings as rpe\n",
    "from transformers import AutoTokenizer\n",
    "from sklearn.model_selection import train_test_split"
   ]
  },
  {
   "cell_type": "code",
   "execution_count": 3,
   "metadata": {},
   "outputs": [
    {
     "data": {
      "text/plain": [
       "device(type='cuda')"
      ]
     },
     "execution_count": 3,
     "metadata": {},
     "output_type": "execute_result"
    }
   ],
   "source": [
    "device = torch.device('cuda' if torch.cuda.is_available() else 'cpu')\n",
    "device"
   ]
  },
  {
   "cell_type": "code",
   "execution_count": 4,
   "metadata": {},
   "outputs": [],
   "source": [
    "batch_size = 256"
   ]
  },
  {
   "cell_type": "code",
   "execution_count": 5,
   "metadata": {},
   "outputs": [],
   "source": [
    "with open('input.txt', 'r', encoding='utf-8') as f:\n",
    "    text = f.read()"
   ]
  },
  {
   "cell_type": "code",
   "execution_count": 6,
   "metadata": {},
   "outputs": [
    {
     "name": "stdout",
     "output_type": "stream",
     "text": [
      "length of dataset in characters:  1115394\n"
     ]
    }
   ],
   "source": [
    "print(\"length of dataset in characters: \", len(text))"
   ]
  },
  {
   "cell_type": "code",
   "execution_count": 7,
   "metadata": {},
   "outputs": [
    {
     "name": "stdout",
     "output_type": "stream",
     "text": [
      "First Citizen:\n",
      "Before we proceed any further, hear me speak.\n",
      "\n",
      "All:\n",
      "Speak, speak.\n",
      "\n",
      "First Citizen:\n",
      "You are all resolved rather to die than to famish?\n",
      "\n",
      "All:\n",
      "Resolved. resolved.\n",
      "\n",
      "First Citizen:\n",
      "First, you know Caius Marcius is chief enemy to the people.\n",
      "\n",
      "All:\n",
      "We know't, we know't.\n",
      "\n",
      "First Citizen:\n",
      "Let us kill him, and we'll have corn at our own price.\n",
      "Is't a verdict?\n",
      "\n",
      "All:\n",
      "No more talking on't; let it be done: away, away!\n",
      "\n",
      "Second Citizen:\n",
      "One word, good citizens.\n",
      "\n",
      "First Citizen:\n",
      "We are accounted poor citizens, the patricians good.\n",
      "What authority surfeits on would relieve us: if they\n",
      "would yield us but the superfluity, while it were\n",
      "wholesome, we might guess they relieved us humanely;\n",
      "but they think we are too dear: the leanness that\n",
      "afflicts us, the object of our misery, is as an\n",
      "inventory to particularise their abundance; our\n",
      "sufferance is a gain to them Let us revenge this with\n",
      "our pikes, ere we become rakes: for the gods know I\n",
      "speak this in hunger for bread, not in thirst for revenge.\n",
      "\n",
      "\n"
     ]
    }
   ],
   "source": [
    "print(text[:1000])"
   ]
  },
  {
   "cell_type": "code",
   "execution_count": 8,
   "metadata": {},
   "outputs": [
    {
     "name": "stdout",
     "output_type": "stream",
     "text": [
      "\n",
      " !$&',-.3:;?ABCDEFGHIJKLMNOPQRSTUVWXYZabcdefghijklmnopqrstuvwxyz\n",
      "65\n"
     ]
    }
   ],
   "source": [
    "# here are all the unique characters that occur in this text\n",
    "chars = sorted(list(set(text)))\n",
    "vocab_size = len(chars)\n",
    "print(''.join(chars))\n",
    "print(vocab_size)"
   ]
  },
  {
   "cell_type": "code",
   "execution_count": 9,
   "metadata": {},
   "outputs": [
    {
     "name": "stdout",
     "output_type": "stream",
     "text": [
      "[46, 47, 47, 1, 58, 46, 43, 56, 43]\n",
      "hii there\n"
     ]
    }
   ],
   "source": [
    "# create a mapping from characters to integers\n",
    "stoi = { ch:i for i,ch in enumerate(chars) }\n",
    "itos = { i:ch for i,ch in enumerate(chars) }\n",
    "encode = lambda s: [stoi[c] for c in s] # encoder: take a string, output a list of integers\n",
    "decode = lambda l: ''.join([itos[i] for i in l]) # decoder: take a list of integers, output a string\n",
    "\n",
    "print(encode(\"hii there\"))\n",
    "print(decode(encode(\"hii there\")))"
   ]
  },
  {
   "cell_type": "code",
   "execution_count": 10,
   "metadata": {},
   "outputs": [],
   "source": [
    "data = torch.tensor(encode(text))\n",
    "n = int(0.8*len(data))\n",
    "train_data = data[:n]\n",
    "val_data = data[n:]\n"
   ]
  },
  {
   "cell_type": "code",
   "execution_count": 11,
   "metadata": {},
   "outputs": [],
   "source": [
    "class TinyDataSet(Dataset):\n",
    "    def __init__(self, data, context_size = 8):\n",
    "        self.x = []\n",
    "        self.y = []\n",
    "        context_blocks_number = data.shape[0] // context_size\n",
    "        for i in range(context_blocks_number):\n",
    "            left = i * context_size\n",
    "            right = left + context_size\n",
    "            if right >= data.shape[0]:\n",
    "                break\n",
    "            self.x.append(data[left : right])\n",
    "            self.y.append(data[left+1:right+1])\n",
    "        self.x = torch.stack(self.x)\n",
    "        self.y = torch.stack(self.y)\n",
    "    def __getitem__(self, index):\n",
    "        return self.x[index], self.y[index]\n",
    "    def __len__(self):\n",
    "        return self.x.shape[0]\n",
    "        "
   ]
  },
  {
   "cell_type": "code",
   "execution_count": 12,
   "metadata": {},
   "outputs": [
    {
     "name": "stdout",
     "output_type": "stream",
     "text": [
      "111539 27884\n"
     ]
    }
   ],
   "source": [
    "\n",
    "train_dataset = TinyDataSet(train_data)\n",
    "val_dataset = TinyDataSet(val_data)\n",
    "print(len(train_dataset), len(val_dataset))"
   ]
  },
  {
   "cell_type": "code",
   "execution_count": 13,
   "metadata": {},
   "outputs": [],
   "source": [
    "train_loader = DataLoader(dataset = train_dataset, \n",
    "                          batch_size=batch_size,\n",
    "                          shuffle=True,\n",
    "                          num_workers=6, \n",
    "                          )\n",
    "val_loader = DataLoader(dataset = val_dataset, \n",
    "                          batch_size=batch_size,\n",
    "                          shuffle=True,\n",
    "                          num_workers=6,\n",
    "                          )"
   ]
  },
  {
   "cell_type": "code",
   "execution_count": 47,
   "metadata": {},
   "outputs": [],
   "source": [
    "class FeedFoward(nn.Module):\n",
    "    \"\"\" a simple linear layer followed by a non-linearity \"\"\"\n",
    "\n",
    "    def __init__(self, d_model, dropout):\n",
    "        super().__init__()\n",
    "        self.net = nn.Sequential(\n",
    "            nn.Linear(d_model, 4 * d_model),\n",
    "            nn.ReLU(),\n",
    "            nn.Linear(4 * d_model, d_model),\n",
    "            nn.Dropout(dropout),\n",
    "        )\n",
    "\n",
    "    def forward(self, x):\n",
    "        return self.net(x)\n",
    "    \n",
    "class AttentionHead(nn.Module):\n",
    "    def __init__(self, d_model, head_size, block_size):\n",
    "        super().__init__()\n",
    "        self.Q = nn.Linear(d_model, head_size, bias = False)\n",
    "        self.K = nn.Linear(d_model, head_size, bias = False)\n",
    "        self.V = nn.Linear(d_model, head_size, bias = False)\n",
    "        self.register_buffer('trill', torch.tril(torch.ones(block_size, block_size))) # <--- tell pytorch that this is not a parameter\n",
    "        \n",
    "    def forward (self, x):\n",
    "        b, t, c = x.shape\n",
    "        query = self.Q(x)\n",
    "        key = self.K(x)\n",
    "        value = self.V(x)\n",
    "        \n",
    "        wei = query @ key.transpose(-2, -1)\n",
    "        wei = wei.masked_fill(self.trill[:t, :t] == 0, float('-inf'))\n",
    "        wei = wei / query.shape[2]**-0.5\n",
    "        wei = F.softmax(wei, dim = -1)\n",
    "        \n",
    "        return wei @ value\n",
    "    \n",
    "class TransformerDecoderLayer(nn.Module):\n",
    "    def __init__(self, d_model, nheads, block_size, dropout):\n",
    "        super().__init__()\n",
    "        self.partition_size = d_model // nheads\n",
    "        if d_model % nheads != 0:\n",
    "            raise TypeError\n",
    "        self.heads = nn.ModuleList([AttentionHead(d_model = self.partition_size,\n",
    "                                                  head_size= d_model,\n",
    "                                                  block_size = block_size) for _ in range(nheads)])\n",
    "        self.proj = nn.Linear(d_model * nheads, d_model)\n",
    "        self.dropout = nn.Dropout(p = dropout)\n",
    "        \n",
    "    def forward(self, x):\n",
    "        left  = lambda idx: self.partition_size * idx\n",
    "        right = lambda idx: self.partition_size * idx + self.partition_size\n",
    "        heads_out = [self.heads[i](x[:, :, left(i): right(i)]) for i in range(len(self.heads))]\n",
    "        out = torch.cat(heads_out, dim = -1)\n",
    "        out = self.dropout(self.proj(out))\n",
    "        return out\n",
    "\n",
    "\n",
    "class TransformerBlock(nn.Module):\n",
    "    \"\"\" Transformer block: communication followed by computation \"\"\"\n",
    "\n",
    "    def __init__(self, d_model, nheads, block_size, dropout):\n",
    "        # d_model: embedding dimension, n_head: the number of heads we'd like\n",
    "        super().__init__()\n",
    "        self.sa = TransformerDecoderLayer(d_model, nheads, block_size, dropout)\n",
    "        self.ffwd = FeedFoward(d_model, dropout)\n",
    "        self.ln1 = nn.LayerNorm(d_model)\n",
    "        self.ln2 = nn.LayerNorm(d_model)\n",
    "\n",
    "    def forward(self, x):\n",
    "        x = x + self.sa(self.ln1(x))\n",
    "        x = x + self.ffwd(self.ln2(x))\n",
    "        return x\n",
    "\n",
    "class TransformerDecoder(nn.Module):\n",
    "    def __init__(self, d_model, nheads, nlayers, block_size, dropout):\n",
    "        super().__init__()\n",
    "        trans_blocks = [TransformerBlock(d_model, nheads, block_size, dropout) for _ in range(nlayers)]\n",
    "        self.trans_dec = nn.Sequential(*trans_blocks)\n",
    "    def forward(self, x):\n",
    "        return self.trans_dec(x)\n",
    "\n",
    "class TinyGPT(nn.Module):\n",
    "    def __init__(self, vocab_size, d_model, block_size, nheads, dropout):\n",
    "        super().__init__()\n",
    "        self.embs = nn.Embedding(vocab_size, d_model)\n",
    "        self.position_embs = nn.Embedding(block_size, d_model)\n",
    "        self.block = TransformerDecoder(d_model=d_model,\n",
    "                                            nheads = nheads,\n",
    "                                            nlayers=2,\n",
    "                                            block_size= block_size,\n",
    "                                            dropout=dropout)\n",
    "        self.linear = nn.Linear(d_model, vocab_size)\n",
    "        self.softmax = nn.Softmax(dim = 1)\n",
    "        \n",
    "    def forward(self, x):\n",
    "        B, T = x.shape\n",
    "        x = self.embs(x) + self.position_embs(torch.arange(T, device=device))\n",
    "        x = self.block(x)\n",
    "        logits = self.linear(x)\n",
    "        B, T, C = logits.shape\n",
    "        logits = logits.view(B*T, C)\n",
    "        return logits\n",
    "    \n",
    "    def predict(self, idx, max_seq_len, block_size):\n",
    "        for _ in range(max_seq_len):\n",
    "            idx_cond = idx[:, -block_size:]\n",
    "            logits = self(idx_cond)\n",
    "            logits= logits[-1]\n",
    "            probs = F.softmax(logits, dim=-1)\n",
    "            idx_next = torch.multinomial(probs, num_samples=1).unsqueeze(dim = 1)\n",
    "            idx = torch.cat((idx, idx_next), dim = 1)\n",
    "        return idx"
   ]
  },
  {
   "cell_type": "code",
   "execution_count": 48,
   "metadata": {},
   "outputs": [
    {
     "name": "stdout",
     "output_type": "stream",
     "text": [
      "Train loss: 2.6834048054633883; Validation loss: 2.390053009768145\n",
      "Train loss: 2.07070899829952; Validation loss: 2.0975183871907928\n",
      "Train loss: 1.9967548707756428; Validation loss: 2.0513680867098887\n",
      "Train loss: 1.962258321976443; Validation loss: 2.032127185699043\n",
      "Train loss: 1.9407623229770485; Validation loss: 2.0191444880371794\n",
      "Train loss: 1.9275050846808548; Validation loss: 2.01189294758193\n",
      "Train loss: 1.9167016646183959; Validation loss: 2.005204004978915\n",
      "Train loss: 1.9095897712838759; Validation loss: 1.9996809434453282\n",
      "Train loss: 1.9042525627744307; Validation loss: 1.9977352280135547\n",
      "Train loss: 1.898407820988139; Validation loss: 1.9994447964047073\n",
      "Train loss: 1.89399332081506; Validation loss: 1.9982625235111342\n",
      "Train loss: 1.8901750281316425; Validation loss: 1.9872139079855122\n",
      "Train loss: 1.8873269191575706; Validation loss: 1.983649825831072\n",
      "Train loss: 1.8848846899260074; Validation loss: 1.9823085408691967\n",
      "Train loss: 1.8819218368158428; Validation loss: 1.9768340696982287\n",
      "Train loss: 1.8794163686966678; Validation loss: 1.9760367367245735\n",
      "Train loss: 1.878148019860644; Validation loss: 1.975026598764122\n",
      "Train loss: 1.8769460938392428; Validation loss: 1.9766717996072332\n",
      "Train loss: 1.8738176133654534; Validation loss: 1.9744893334327487\n",
      "Train loss: 1.873380876188978; Validation loss: 1.9760868505600395\n"
     ]
    }
   ],
   "source": [
    "model = TinyGPT(vocab_size = vocab_size,\n",
    "                d_model = 32, \n",
    "                block_size=8, \n",
    "                nheads = 2,\n",
    "                dropout = 0.1).to(device=device)\n",
    "loss_fn = nn.CrossEntropyLoss()\n",
    "optimizer = optim.AdamW(model.parameters(), lr = 1e-3)\n",
    "epochs = 200\n",
    "train_loss_per_epoch = np.zeros(epochs)\n",
    "val_loss_per_epoch = np.zeros(epochs)\n",
    "for epoch in range(epochs):\n",
    "    train_losses = []\n",
    "    val_losses = []\n",
    "    model.train()\n",
    "    for x, y in train_loader:\n",
    "        y = y.view(-1).to(device)\n",
    "        preds = model(x.to(device))\n",
    "        loss = loss_fn(preds, y)\n",
    "        train_losses.append(loss.item())\n",
    "        optimizer.zero_grad()\n",
    "        loss.backward()\n",
    "        optimizer.step()\n",
    "    \n",
    "    model.eval()\n",
    "    with torch.no_grad():\n",
    "        for x, y in val_loader:\n",
    "            y = y.view(-1).to(device)\n",
    "            preds = model(x.to(device))\n",
    "            loss = loss_fn(preds, y)\n",
    "            val_losses.append(loss.item())\n",
    "            \n",
    "    avg_train_loss = sum(train_losses) / len(train_losses)\n",
    "    avg_val_loss = sum(val_losses) / len(val_losses)\n",
    "    train_loss_per_epoch[epoch] = avg_train_loss\n",
    "    val_loss_per_epoch[epoch] = avg_val_loss\n",
    "    if epoch % 10 == 0:\n",
    "        print(f\"Train loss: {avg_train_loss}; Validation loss: {avg_val_loss}\")\n"
   ]
  },
  {
   "cell_type": "code",
   "execution_count": 49,
   "metadata": {},
   "outputs": [
    {
     "data": {
      "text/plain": [
       "[<matplotlib.lines.Line2D at 0x7f0faac543e0>]"
      ]
     },
     "execution_count": 49,
     "metadata": {},
     "output_type": "execute_result"
    },
    {
     "data": {
      "image/png": "[encoded data removed]",
      "text/plain": [
       "<Figure size 800x600 with 2 Axes>"
      ]
     },
     "metadata": {},
     "output_type": "display_data"
    }
   ],
   "source": [
    "import matplotlib.pyplot as plt\n",
    "\n",
    "fig, ax = plt.subplots(1, 2, figsize = (8,6))\n",
    "ax[0].plot(range(0, epochs), train_loss_per_epoch)\n",
    "ax[1].plot(range(0, epochs), val_loss_per_epoch)"
   ]
  },
  {
   "cell_type": "code",
   "execution_count": 50,
   "metadata": {},
   "outputs": [
    {
     "name": "stdout",
     "output_type": "stream",
     "text": [
      "\n",
      "\n",
      "ERCUTIO:\n",
      "My anoth, presed\n",
      "If parted,\n",
      "You wordshall beck\n",
      "Resit me poddo oavent\n",
      "Ave his valus head not thee's trup,\n",
      "My her you woulkienus and must morrow\n",
      "Clare a low; I dake their fee exes's  on!\n",
      "If evish glifest many a you blood.\n",
      "\n",
      "QUEEN ELIFFORGLOUCESTER:\n",
      "This no land you agay not o' that cruth the loved lear the weet thy stan owas enot givio cappied\n",
      "Come my lords,\n",
      "But ever you arsads of deam, rie,\n",
      "Bathis shade settlefs hat look. Too;\n",
      "And heart, will thy do.\n",
      "\n",
      "LAXENCE:\n",
      "Now am olden are cits fles deell follippies blood, Fir?\n",
      "\n",
      "WARWINGLOUCESTER:\n",
      "What honour thy but Beliff all hymes,\n",
      "But, imbour himself world the not he beein the weress\n",
      "Inlanguer to our back?\n",
      " God doth wear; the ditver I \n",
      "pking:\n",
      "Lest prebus,\n",
      "Comrown apper; mine to the oar I will, secluseath.\n",
      "Sincedien to say as the dost an hath his dialtiol.\n",
      "\n",
      "ANLK:\n",
      "Not the death she\n",
      "Of ear, shis folledgence unto your by me,\n",
      "You ar:\n",
      "From by plake morrow ta chans\n",
      "Edward's revering tho Frefore.\n",
      "\n",
      "CAMILLO:\n",
      "If is for the very\n",
      "Call you do voinaturiend foolus no I seequie my ach'd exper Cape unpercouse upou woly sconted, IV:\n",
      "I had falight!\n",
      "\n",
      "KINGS:\n",
      "My lead well is and better fair, madam,\n",
      "Go, go then to with Pell; His pludes and;\n",
      "So ming the comed:\n",
      "Dug--happy as.\n",
      "\n",
      "LUCIOHO:\n",
      "Lord\n",
      "Taky laturn\n",
      "And slave. That is illand must stase, genteed' thou woulden me world sit their prove fies and in to father, my for's hour:\n",
      "Dadight.\n",
      "\n",
      "Citius humblood's by when an that within of merver'd to\n",
      "As it sir. I was to blood doub whelding from to do purth the prith anate sins, My courn a first no eyes thalm and some cart?\n",
      "\n",
      "CAPULET:\n",
      "I put une rody like the relsolve\n",
      "In I'll brease my comes, pate confess,\n",
      "and toth't?\n",
      "\n",
      "Firthou to spesens for you man Duked!\n",
      "\n",
      "MENENIUS:\n",
      "Have play!\n",
      "\n",
      "Contenoble:\n",
      "My love. Do be in such what trues abuny\n",
      "Her Ques.\n",
      "\n",
      "Nurly pardest\n",
      "Do the the them up a suddings for coust flee raccher, whan day man:\n",
      "Voway, not gaveal:\n",
      "To the you hat do knowlsee?\n",
      "\n",
      "MERCUTIO:\n",
      "He dame God to my sight:\n",
      "My from: and\n",
      "How the voice 'Galtes, if you steep--lands m\n"
     ]
    }
   ],
   "source": [
    "context = torch.zeros((1, 1), dtype=torch.long, device=device)\n",
    "print(decode(model.predict(context, max_seq_len=2000, block_size=8)[0].tolist()))"
   ]
  },
  {
   "cell_type": "code",
   "execution_count": null,
   "metadata": {},
   "outputs": [],
   "source": []
  }
 ],
 "metadata": {
  "kernelspec": {
   "display_name": "torch_hub",
   "language": "python",
   "name": "python3"
  },
  "language_info": {
   "codemirror_mode": {
    "name": "ipython",
    "version": 3
   },
   "file_extension": ".py",
   "mimetype": "text/x-python",
   "name": "python",
   "nbconvert_exporter": "python",
   "pygments_lexer": "ipython3",
   "version": "3.12.2"
  }
 },
 "nbformat": 4,
 "nbformat_minor": 2
}
