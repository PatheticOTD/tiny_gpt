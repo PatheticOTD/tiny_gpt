{
 "cells": [
  {
   "cell_type": "markdown",
   "metadata": {},
   "source": [
    "!wget https://raw.githubusercontent.com/karpathy/char-rnn/master/data/tinyshakespeare/input.txt"
   ]
  },
  {
   "cell_type": "code",
   "execution_count": 1,
   "metadata": {},
   "outputs": [],
   "source": [
    "import os\n",
    "import torch\n",
    "import numpy as np\n",
    "import torch.nn as nn\n",
    "from torch import optim\n",
    "from torch.utils.data import Dataset, DataLoader\n",
    "from torch.nn import functional as F\n",
    "os.environ[\"TOKENIZERS_PARALLELISM\"] = \"false\""
   ]
  },
  {
   "cell_type": "code",
   "execution_count": 2,
   "metadata": {},
   "outputs": [
    {
     "data": {
      "text/plain": [
       "device(type='cuda')"
      ]
     },
     "execution_count": 2,
     "metadata": {},
     "output_type": "execute_result"
    }
   ],
   "source": [
    "device = torch.device('cuda' if torch.cuda.is_available() else 'cpu')\n",
    "device"
   ]
  },
  {
   "cell_type": "code",
   "execution_count": 3,
   "metadata": {},
   "outputs": [],
   "source": [
    "batch_size = 256"
   ]
  },
  {
   "cell_type": "code",
   "execution_count": 4,
   "metadata": {},
   "outputs": [],
   "source": [
    "with open('input_milkshake.txt', 'r', encoding='utf-8') as f:\n",
    "    text = f.read()"
   ]
  },
  {
   "cell_type": "code",
   "execution_count": 5,
   "metadata": {},
   "outputs": [
    {
     "name": "stdout",
     "output_type": "stream",
     "text": [
      "length of dataset in characters:  1115394\n"
     ]
    }
   ],
   "source": [
    "print(\"length of dataset in characters: \", len(text))"
   ]
  },
  {
   "cell_type": "code",
   "execution_count": 6,
   "metadata": {},
   "outputs": [
    {
     "name": "stdout",
     "output_type": "stream",
     "text": [
      "First Citizen:\n",
      "Before we proceed any further, hear me speak.\n",
      "\n",
      "All:\n",
      "Speak, speak.\n",
      "\n",
      "First Citizen:\n",
      "You are all resolved rather to die than to famish?\n",
      "\n",
      "All:\n",
      "Resolved. resolved.\n",
      "\n",
      "First Citizen:\n",
      "First, you know Caius Marcius is chief enemy to the people.\n",
      "\n",
      "All:\n",
      "We know't, we know't.\n",
      "\n",
      "First Citizen:\n",
      "Let us kill him, and we'll have corn at our own price.\n",
      "Is't a verdict?\n",
      "\n",
      "All:\n",
      "No more talking on't; let it be done: away, away!\n",
      "\n",
      "Second Citizen:\n",
      "One word, good citizens.\n",
      "\n",
      "First Citizen:\n",
      "We are accounted poor citizens, the patricians good.\n",
      "What authority surfeits on would relieve us: if they\n",
      "would yield us but the superfluity, while it were\n",
      "wholesome, we might guess they relieved us humanely;\n",
      "but they think we are too dear: the leanness that\n",
      "afflicts us, the object of our misery, is as an\n",
      "inventory to particularise their abundance; our\n",
      "sufferance is a gain to them Let us revenge this with\n",
      "our pikes, ere we become rakes: for the gods know I\n",
      "speak this in hunger for bread, not in thirst for revenge.\n",
      "\n",
      "\n"
     ]
    }
   ],
   "source": [
    "print(text[:1000])"
   ]
  },
  {
   "cell_type": "code",
   "execution_count": 7,
   "metadata": {},
   "outputs": [
    {
     "name": "stdout",
     "output_type": "stream",
     "text": [
      "\n",
      " !$&',-.3:;?ABCDEFGHIJKLMNOPQRSTUVWXYZabcdefghijklmnopqrstuvwxyz\n",
      "65\n"
     ]
    }
   ],
   "source": [
    "# here are all the unique characters that occur in this text\n",
    "chars = sorted(list(set(text)))\n",
    "vocab_size = len(chars)\n",
    "print(''.join(chars))\n",
    "print(vocab_size)"
   ]
  },
  {
   "cell_type": "code",
   "execution_count": 8,
   "metadata": {},
   "outputs": [
    {
     "name": "stdout",
     "output_type": "stream",
     "text": [
      "[46, 43, 50, 50, 53]\n",
      "hello\n"
     ]
    }
   ],
   "source": [
    "# create a mapping from characters to integers\n",
    "stoi = { ch:i for i,ch in enumerate(chars) }\n",
    "itos = { i:ch for i,ch in enumerate(chars) }\n",
    "encode = lambda s: [stoi[c] for c in s] # encoder: take a string, output a list of integers\n",
    "decode = lambda l: ''.join([itos[i] for i in l]) # decoder: take a list of integers, output a string\n",
    "\n",
    "print(encode(\"hello\"))\n",
    "print(decode(encode(\"hello\")))"
   ]
  },
  {
   "cell_type": "code",
   "execution_count": 9,
   "metadata": {},
   "outputs": [],
   "source": [
    "data = torch.tensor(encode(text))\n",
    "n = int(0.8*len(data))\n",
    "train_data = data[:n]\n",
    "val_data = data[n:]\n"
   ]
  },
  {
   "cell_type": "code",
   "execution_count": 10,
   "metadata": {},
   "outputs": [],
   "source": [
    "class TinyDataSet(Dataset):\n",
    "    def __init__(self, data, context_size = 8):\n",
    "        self.x = []\n",
    "        self.y = []\n",
    "        context_blocks_number = data.shape[0] // context_size\n",
    "        for i in range(context_blocks_number):\n",
    "            left = i * context_size\n",
    "            right = left + context_size\n",
    "            if right >= data.shape[0]:\n",
    "                break\n",
    "            self.x.append(data[left : right])\n",
    "            self.y.append(data[left+1:right+1])\n",
    "        self.x = torch.stack(self.x)\n",
    "        self.y = torch.stack(self.y)\n",
    "    def __getitem__(self, index):\n",
    "        return self.x[index], self.y[index]\n",
    "    def __len__(self):\n",
    "        return self.x.shape[0]\n",
    "        "
   ]
  },
  {
   "cell_type": "code",
   "execution_count": 11,
   "metadata": {},
   "outputs": [
    {
     "name": "stdout",
     "output_type": "stream",
     "text": [
      "111539 27884\n"
     ]
    }
   ],
   "source": [
    "\n",
    "train_dataset = TinyDataSet(train_data)\n",
    "val_dataset = TinyDataSet(val_data)\n",
    "print(len(train_dataset), len(val_dataset))"
   ]
  },
  {
   "cell_type": "code",
   "execution_count": 12,
   "metadata": {},
   "outputs": [],
   "source": [
    "train_loader = DataLoader(dataset = train_dataset, \n",
    "                          batch_size=batch_size,\n",
    "                          shuffle=True,\n",
    "                          num_workers=6, \n",
    "                          )\n",
    "val_loader = DataLoader(dataset = val_dataset, \n",
    "                          batch_size=batch_size,\n",
    "                          shuffle=True,\n",
    "                          num_workers=6,\n",
    "                          )"
   ]
  },
  {
   "cell_type": "code",
   "execution_count": 13,
   "metadata": {},
   "outputs": [],
   "source": [
    "class FeedFoward(nn.Module):\n",
    "    \"\"\" a simple linear layer followed by a non-linearity \"\"\"\n",
    "\n",
    "    def __init__(self, d_model, dropout):\n",
    "        super().__init__()\n",
    "        self.net = nn.Sequential(\n",
    "            nn.Linear(d_model, 4 * d_model),\n",
    "            nn.ReLU(),\n",
    "            nn.Linear(4 * d_model, d_model),\n",
    "            nn.Dropout(dropout),\n",
    "        )\n",
    "\n",
    "    def forward(self, x):\n",
    "        return self.net(x)\n",
    "    \n",
    "class AttentionHead(nn.Module):\n",
    "    def __init__(self, d_model, head_size, block_size):\n",
    "        super().__init__()\n",
    "        self.Q = nn.Linear(d_model, head_size, bias = False)\n",
    "        self.K = nn.Linear(d_model, head_size, bias = False)\n",
    "        self.V = nn.Linear(d_model, head_size, bias = False)\n",
    "        self.register_buffer('trill', torch.tril(torch.ones(block_size, block_size))) # <--- tell pytorch that this is not a parameter\n",
    "        \n",
    "    def forward (self, x):\n",
    "        b, t, c = x.shape\n",
    "        query = self.Q(x)\n",
    "        key = self.K(x)\n",
    "        value = self.V(x)\n",
    "        \n",
    "        wei = query @ key.transpose(-2, -1)\n",
    "        wei = wei.masked_fill(self.trill[:t, :t] == 0, float('-inf'))\n",
    "        wei = wei / query.shape[2]**-0.5\n",
    "        wei = F.softmax(wei, dim = -1)\n",
    "        \n",
    "        return wei @ value\n",
    "    \n",
    "class TransformerDecoderLayer(nn.Module):\n",
    "    def __init__(self, d_model, nheads, block_size, dropout):\n",
    "        super().__init__()\n",
    "        self.partition_size = d_model // nheads\n",
    "        if d_model % nheads != 0:\n",
    "            raise TypeError\n",
    "        self.heads = nn.ModuleList([AttentionHead(d_model = self.partition_size,\n",
    "                                                  head_size= d_model,\n",
    "                                                  block_size = block_size) for _ in range(nheads)])\n",
    "        self.proj = nn.Linear(d_model * nheads, d_model)\n",
    "        self.dropout = nn.Dropout(p = dropout)\n",
    "        \n",
    "    def forward(self, x):\n",
    "        left  = lambda idx: self.partition_size * idx\n",
    "        right = lambda idx: self.partition_size * idx + self.partition_size\n",
    "        heads_out = [self.heads[i](x[:, :, left(i): right(i)]) for i in range(len(self.heads))]\n",
    "        out = torch.cat(heads_out, dim = -1)\n",
    "        out = self.dropout(self.proj(out))\n",
    "        return out\n",
    "\n",
    "\n",
    "class TransformerBlock(nn.Module):\n",
    "    \"\"\" Transformer block: communication followed by computation \"\"\"\n",
    "\n",
    "    def __init__(self, d_model, nheads, block_size, dropout):\n",
    "        # d_model: embedding dimension, n_head: the number of heads we'd like\n",
    "        super().__init__()\n",
    "        self.sa = TransformerDecoderLayer(d_model, nheads, block_size, dropout)\n",
    "        self.ffwd = FeedFoward(d_model, dropout)\n",
    "        self.ln1 = nn.LayerNorm(d_model)\n",
    "        self.ln2 = nn.LayerNorm(d_model)\n",
    "\n",
    "    def forward(self, x):\n",
    "        x = x + self.sa(self.ln1(x))\n",
    "        x = x + self.ffwd(self.ln2(x))\n",
    "        return x\n",
    "\n",
    "class TransformerDecoder(nn.Module):\n",
    "    def __init__(self, d_model, nheads, nlayers, block_size, dropout):\n",
    "        super().__init__()\n",
    "        trans_blocks = [TransformerBlock(d_model, nheads, block_size, dropout) for _ in range(nlayers)]\n",
    "        self.trans_dec = nn.Sequential(*trans_blocks)\n",
    "    def forward(self, x):\n",
    "        return self.trans_dec(x)\n",
    "\n",
    "class TinyGPT(nn.Module):\n",
    "    def __init__(self, vocab_size, d_model, block_size, nheads, dropout):\n",
    "        super().__init__()\n",
    "        self.embs = nn.Embedding(vocab_size, d_model)\n",
    "        self.position_embs = nn.Embedding(block_size, d_model)\n",
    "        self.block = TransformerDecoder(d_model=d_model,\n",
    "                                            nheads = nheads,\n",
    "                                            nlayers=2,\n",
    "                                            block_size= block_size,\n",
    "                                            dropout=dropout)\n",
    "        self.linear = nn.Linear(d_model, vocab_size)\n",
    "        self.softmax = nn.Softmax(dim = 1)\n",
    "        \n",
    "    def forward(self, x):\n",
    "        B, T = x.shape\n",
    "        x = self.embs(x) + self.position_embs(torch.arange(T, device=device))\n",
    "        x = self.block(x)\n",
    "        logits = self.linear(x)\n",
    "        B, T, C = logits.shape\n",
    "        logits = logits.view(B*T, C)\n",
    "        return logits\n",
    "    \n",
    "    def predict(self, idx, max_seq_len, block_size):\n",
    "        for _ in range(max_seq_len):\n",
    "            idx_cond = idx[:, -block_size:]\n",
    "            logits = self(idx_cond)\n",
    "            logits= logits[-1]\n",
    "            probs = F.softmax(logits, dim=-1)\n",
    "            idx_next = torch.multinomial(probs, num_samples=1).unsqueeze(dim = 1)\n",
    "            idx = torch.cat((idx, idx_next), dim = 1)\n",
    "        return idx"
   ]
  },
  {
   "cell_type": "code",
   "execution_count": 14,
   "metadata": {},
   "outputs": [
    {
     "name": "stdout",
     "output_type": "stream",
     "text": [
      "Train loss: 3.087154101887974; Validation loss: 2.6303983478371156\n",
      "Train loss: 2.1915290104139835; Validation loss: 2.1842794112109263\n",
      "Train loss: 2.1042288804272995; Validation loss: 2.114712721710905\n",
      "Train loss: 2.0543079433638023; Validation loss: 2.0836012100954666\n",
      "Train loss: 2.0227165872897577; Validation loss: 2.06684476738676\n",
      "Train loss: 2.001569257416856; Validation loss: 2.0538050887781547\n",
      "Train loss: 1.9851034805862182; Validation loss: 2.047817483954473\n",
      "Train loss: 1.9700597565655316; Validation loss: 2.039415151701061\n",
      "Train loss: 1.959440878498445; Validation loss: 2.038612268386631\n",
      "Train loss: 1.949997566708731; Validation loss: 2.0302749686284898\n",
      "Train loss: 1.9417938562708164; Validation loss: 2.02473852393824\n",
      "Train loss: 1.9347592830111127; Validation loss: 2.020073122934464\n",
      "Train loss: 1.9286910968089321; Validation loss: 2.015848069015993\n",
      "Train loss: 1.9245946697138865; Validation loss: 2.0129090438195325\n",
      "Train loss: 1.9199576744245828; Validation loss: 2.0124538426005514\n",
      "Train loss: 1.9160214145796015; Validation loss: 2.01102617136929\n",
      "Train loss: 1.9113411063994836; Validation loss: 2.006891644329106\n",
      "Train loss: 1.9084943229452185; Validation loss: 2.006606112926378\n",
      "Train loss: 1.9060457985882366; Validation loss: 1.9999409170325744\n",
      "Train loss: 1.9032987082770112; Validation loss: 2.003299435344311\n"
     ]
    }
   ],
   "source": [
    "model = TinyGPT(vocab_size = vocab_size,\n",
    "                d_model = 32, \n",
    "                block_size=8, \n",
    "                nheads = 2,\n",
    "                dropout = 0.1).to(device=device)\n",
    "loss_fn = nn.CrossEntropyLoss()\n",
    "optimizer = optim.AdamW(model.parameters(), lr = 3e-4)\n",
    "epochs = 200\n",
    "train_loss_per_epoch = np.zeros(epochs)\n",
    "val_loss_per_epoch = np.zeros(epochs)\n",
    "for epoch in range(epochs):\n",
    "    train_losses = []\n",
    "    val_losses = []\n",
    "    model.train()\n",
    "    for x, y in train_loader:\n",
    "        y = y.view(-1).to(device)\n",
    "        preds = model(x.to(device))\n",
    "        loss = loss_fn(preds, y)\n",
    "        train_losses.append(loss.item())\n",
    "        optimizer.zero_grad()\n",
    "        loss.backward()\n",
    "        optimizer.step()\n",
    "    \n",
    "    model.eval()\n",
    "    with torch.no_grad():\n",
    "        for x, y in val_loader:\n",
    "            y = y.view(-1).to(device)\n",
    "            preds = model(x.to(device))\n",
    "            loss = loss_fn(preds, y)\n",
    "            val_losses.append(loss.item())\n",
    "            \n",
    "    avg_train_loss = sum(train_losses) / len(train_losses)\n",
    "    avg_val_loss = sum(val_losses) / len(val_losses)\n",
    "    train_loss_per_epoch[epoch] = avg_train_loss\n",
    "    val_loss_per_epoch[epoch] = avg_val_loss\n",
    "    if epoch % 10 == 0:\n",
    "        print(f\"Train loss: {avg_train_loss}; Validation loss: {avg_val_loss}\")\n"
   ]
  },
  {
   "cell_type": "code",
   "execution_count": 15,
   "metadata": {},
   "outputs": [
    {
     "data": {
      "text/plain": [
       "[<matplotlib.lines.Line2D at 0x7f7f26faa3c0>]"
      ]
     },
     "execution_count": 15,
     "metadata": {},
     "output_type": "execute_result"
    },
    {
     "data": {
      "image/png": "[encoded data removed]",
      "text/plain": [
       "<Figure size 800x600 with 2 Axes>"
      ]
     },
     "metadata": {},
     "output_type": "display_data"
    }
   ],
   "source": [
    "import matplotlib.pyplot as plt\n",
    "\n",
    "fig, ax = plt.subplots(1, 2, figsize = (8,6))\n",
    "ax[0].plot(range(0, epochs), train_loss_per_epoch)\n",
    "ax[1].plot(range(0, epochs), val_loss_per_epoch)"
   ]
  },
  {
   "cell_type": "code",
   "execution_count": 16,
   "metadata": {},
   "outputs": [
    {
     "name": "stdout",
     "output_type": "stream",
     "text": [
      "\n",
      "Now pastring sly as thee broke should,\n",
      "The not; and thall'd fits. And but and wour lanner pristel lordthest this lead's brart, which morrive ariad to need-in what this to this grave inte Firsels you doned,\n",
      "Of and Edwast only bechight olf,\n",
      "Thall love shall thou heir go.\n",
      "\n",
      "DUKE OF YORK:\n",
      "Go o' but my\n",
      "Welt dredengs trelse, from and meastly!\n",
      "Am, Rerve us seld amuckly,\n",
      "Your are never\n",
      "'Zupon me struove's neart\n",
      "When man am heave bether lick hy sweeet gontirl dius: ower: will a best who as as beausestion troon.\n",
      "Her:\n",
      "Naaten you arish\n",
      "COMINIUS:\n",
      "Yy vile, with pror thean of thou sleem them iman this the in mands: noly\n",
      "ress Catesueits give soman'st our shall might! LordUS:\n",
      "And.\n",
      "\n",
      "POMPSO til as regn and with oyou mare live, at and thou but All home,\n",
      "Whenes-douch your me sild snembly;\n",
      "Your is shommence bedgenly theath unfurn yet I meright,\n",
      "Mast them his prostion the somore words of.\n",
      "\n",
      "QUEEN EDWARD IV:\n",
      "Hein ever\n",
      "The vereir corenged polved your morringmer know'd news to have would and sten is, thrumpilests Thanst, not since that reseque whee, cons me raw;\n",
      "UMIO:\n",
      "Shoses.\n",
      "\n",
      "ANGELO:\n",
      "Of my love olfort\n",
      "Nurserigh;\n",
      "To prom to good prease fling will thou than his dear courself this sliquich falning is posardon? Rijoy on are of day.\n",
      "\n",
      "Manhen ondy 'tworn you a so say-your worth a kagans the dands timade you enful his untorself you cam for a gion aro beseek, that gened me.\n",
      "\n",
      "POLANUS:\n",
      "With the\n",
      "To my tench their lace I was yould in sir from you had he cortle wither dy, sacares sreat ston, thy a tarn'd spex-on cooles, more fear, Momer:\n",
      "\n",
      "Say too chad, be;\n",
      "Is in Clavers is the spay, sends, ther; shother vervence she am hese: so lattes, who unful with to me.\n",
      "Heads, in ying.\n",
      "\n",
      "ROMEO:\n",
      "Thou.\n",
      "\n",
      "RENCHARD IV:\n",
      "Your one the then ins, estend he dest your know be goother is kill Too\n",
      "Theak? hather un anego Was agosn remends\n",
      "Hear it,\n",
      "A we sof peopher in daulfs\n",
      "That thy goodess vown? prain, norriant, thou with you, law would neb-asmy the him hena chost that his wencuse shoulds servept that oned is in so disuns, give is ea\n"
     ]
    }
   ],
   "source": [
    "context = torch.zeros((1, 1), dtype=torch.long, device=device)\n",
    "print(decode(model.predict(context, max_seq_len=2000, block_size=8)[0].tolist()))"
   ]
  },
  {
   "cell_type": "code",
   "execution_count": null,
   "metadata": {},
   "outputs": [],
   "source": []
  }
 ],
 "metadata": {
  "kernelspec": {
   "display_name": "torch_hub",
   "language": "python",
   "name": "python3"
  },
  "language_info": {
   "codemirror_mode": {
    "name": "ipython",
    "version": 3
   },
   "file_extension": ".py",
   "mimetype": "text/x-python",
   "name": "python",
   "nbconvert_exporter": "python",
   "pygments_lexer": "ipython3",
   "version": "3.12.2"
  }
 },
 "nbformat": 4,
 "nbformat_minor": 2
}
